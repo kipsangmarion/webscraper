{
  "nbformat": 4,
  "nbformat_minor": 0,
  "metadata": {
    "colab": {
      "provenance": [],
      "authorship_tag": "ABX9TyMP9UONX2tW1PW4Rsb6crkj",
      "include_colab_link": true
    },
    "kernelspec": {
      "name": "python3",
      "display_name": "Python 3"
    },
    "language_info": {
      "name": "python"
    }
  },
  "cells": [
    {
      "cell_type": "markdown",
      "metadata": {
        "id": "view-in-github",
        "colab_type": "text"
      },
      "source": [
        "<a href=\"https://colab.research.google.com/github/kipsangmarion/webscraper/blob/main/WebScraper.ipynb\" target=\"_parent\"><img src=\"https://colab.research.google.com/assets/colab-badge.svg\" alt=\"Open In Colab\"/></a>"
      ]
    },
    {
      "cell_type": "markdown",
      "source": [
        "#Dependencies"
      ],
      "metadata": {
        "id": "PolC566NB36G"
      }
    },
    {
      "cell_type": "code",
      "execution_count": null,
      "metadata": {
        "id": "QiLx8S1L_2BA"
      },
      "outputs": [],
      "source": [
        "from bs4 import BeautifulSoup\n",
        "import lxml\n",
        "import requests\n",
        "import pandas as pd\n",
        "import numpy as np\n",
        "import csv"
      ]
    },
    {
      "cell_type": "markdown",
      "source": [
        "#Extracting the links to individual project details"
      ],
      "metadata": {
        "id": "vdab7Nq3_kzD"
      }
    },
    {
      "cell_type": "code",
      "source": [
        "# Replace with the URL of the website you want to scrape\n",
        "urls = ['https://www.thegef.org/projects-operations/database?f%5B0%5D=focal_areas%3A2207&search=&page=0',\n",
        "        'https://www.thegef.org/projects-operations/database?f%5B0%5D=focal_areas%3A2207&search=&page=1',\n",
        "        'https://www.thegef.org/projects-operations/database?f%5B0%5D=focal_areas%3A2207&search=&page=2',\n",
        "        'https://www.thegef.org/projects-operations/database?f%5B0%5D=focal_areas%3A2207&search=&page=3',\n",
        "        'https://www.thegef.org/projects-operations/database?f%5B0%5D=focal_areas%3A2207&search=&page=4',\n",
        "        'https://www.thegef.org/projects-operations/database?f%5B0%5D=focal_areas%3A2207&search=&page=5',\n",
        "        'https://www.thegef.org/projects-operations/database?f%5B0%5D=focal_areas%3A2207&search=&page=6',\n",
        "        'https://www.thegef.org/projects-operations/database?f%5B0%5D=focal_areas%3A2207&search=&page=7',\n",
        "        'https://www.thegef.org/projects-operations/database?f%5B0%5D=focal_areas%3A2207&search=&page=8',\n",
        "        'https://www.thegef.org/projects-operations/database?f%5B0%5D=focal_areas%3A2207&search=&page=9',\n",
        "        'https://www.thegef.org/projects-operations/database?f%5B0%5D=focal_areas%3A2207&search=&page=10',\n",
        "        'https://www.thegef.org/projects-operations/database?f%5B0%5D=focal_areas%3A2207&search=&page=11',\n",
        "        'https://www.thegef.org/projects-operations/database?f%5B0%5D=focal_areas%3A2207&search=&page=12',\n",
        "        'https://www.thegef.org/projects-operations/database?f%5B0%5D=focal_areas%3A2207&search=&page=13',\n",
        "        'https://www.thegef.org/projects-operations/database?f%5B0%5D=focal_areas%3A2207&search=&page=14',\n",
        "        'https://www.thegef.org/projects-operations/database?f%5B0%5D=focal_areas%3A2207&search=&page=15',\n",
        "        'https://www.thegef.org/projects-operations/database?f%5B0%5D=focal_areas%3A2207&search=&page=16',\n",
        "        'https://www.thegef.org/projects-operations/database?f%5B0%5D=focal_areas%3A2207&search=&page=17',\n",
        "        'https://www.thegef.org/projects-operations/database?f%5B0%5D=focal_areas%3A2207&search=&page=18',\n",
        "        'https://www.thegef.org/projects-operations/database?f%5B0%5D=focal_areas%3A2207&search=&page=19',\n",
        "        'https://www.thegef.org/projects-operations/database?f%5B0%5D=focal_areas%3A2207&search=&page=20',\n",
        "        'https://www.thegef.org/projects-operations/database?f%5B0%5D=focal_areas%3A2207&search=&page=21',\n",
        "        'https://www.thegef.org/projects-operations/database?f%5B0%5D=focal_areas%3A2207&search=&page=22',\n",
        "        'https://www.thegef.org/projects-operations/database?f%5B0%5D=focal_areas%3A2207&search=&page=23',\n",
        "        'https://www.thegef.org/projects-operations/database?f%5B0%5D=focal_areas%3A2207&search=&page=24',\n",
        "        'https://www.thegef.org/projects-operations/database?f%5B0%5D=focal_areas%3A2207&search=&page=25',\n",
        "        'https://www.thegef.org/projects-operations/database?f%5B0%5D=focal_areas%3A2207&search=&page=26',\n",
        "        'https://www.thegef.org/projects-operations/database?f%5B0%5D=focal_areas%3A2207&search=&page=27',\n",
        "        'https://www.thegef.org/projects-operations/database?f%5B0%5D=focal_areas%3A2207&search=&page=28',\n",
        "        'https://www.thegef.org/projects-operations/database?f%5B0%5D=focal_areas%3A2207&search=&page=29',\n",
        "        'https://www.thegef.org/projects-operations/database?f%5B0%5D=focal_areas%3A2207&search=&page=30',\n",
        "        'https://www.thegef.org/projects-operations/database?f%5B0%5D=focal_areas%3A2207&search=&page=31',\n",
        "        'https://www.thegef.org/projects-operations/database?f%5B0%5D=focal_areas%3A2207&search=&page=32',\n",
        "        'https://www.thegef.org/projects-operations/database?f%5B0%5D=focal_areas%3A2207&search=&page=33',\n",
        "        'https://www.thegef.org/projects-operations/database?f%5B0%5D=focal_areas%3A2207&search=&page=34',\n",
        "        'https://www.thegef.org/projects-operations/database?f%5B0%5D=focal_areas%3A2207&search=&page=35',\n",
        "        'https://www.thegef.org/projects-operations/database?f%5B0%5D=focal_areas%3A2207&search=&page=36',\n",
        "        'https://www.thegef.org/projects-operations/database?f%5B0%5D=focal_areas%3A2207&search=&page=37',\n",
        "        'https://www.thegef.org/projects-operations/database?f%5B0%5D=focal_areas%3A2207&search=&page=38',\n",
        "        'https://www.thegef.org/projects-operations/database?f%5B0%5D=focal_areas%3A2207&search=&page=39',\n",
        "        'https://www.thegef.org/projects-operations/database?f%5B0%5D=focal_areas%3A2207&search=&page=40',\n",
        "        'https://www.thegef.org/projects-operations/database?f%5B0%5D=focal_areas%3A2207&search=&page=41',\n",
        "        'https://www.thegef.org/projects-operations/database?f%5B0%5D=focal_areas%3A2207&search=&page=42',\n",
        "        'https://www.thegef.org/projects-operations/database?f%5B0%5D=focal_areas%3A2207&search=&page=43',\n",
        "        'https://www.thegef.org/projects-operations/database?f%5B0%5D=focal_areas%3A2207&search=&page=44',\n",
        "        'https://www.thegef.org/projects-operations/database?f%5B0%5D=focal_areas%3A2207&search=&page=54',\n",
        "        'https://www.thegef.org/projects-operations/database?f%5B0%5D=focal_areas%3A2207&search=&page=46',\n",
        "        'https://www.thegef.org/projects-operations/database?f%5B0%5D=focal_areas%3A2207&search=&page=47',\n",
        "        'https://www.thegef.org/projects-operations/database?f%5B0%5D=focal_areas%3A2207&search=&page=48',\n",
        "        'https://www.thegef.org/projects-operations/database?f%5B0%5D=focal_areas%3A2207&search=&page=49',\n",
        "        'https://www.thegef.org/projects-operations/database?f%5B0%5D=focal_areas%3A2207&search=&page=50',\n",
        "        'https://www.thegef.org/projects-operations/database?f%5B0%5D=focal_areas%3A2207&search=&page=51',\n",
        "        'https://www.thegef.org/projects-operations/database?f%5B0%5D=focal_areas%3A2207&search=&page=52',\n",
        "        'https://www.thegef.org/projects-operations/database?f%5B0%5D=focal_areas%3A2207&search=&page=53',\n",
        "        'https://www.thegef.org/projects-operations/database?f%5B0%5D=focal_areas%3A2207&search=&page=54',\n",
        "        'https://www.thegef.org/projects-operations/database?f%5B0%5D=focal_areas%3A2207&search=&page=55',\n",
        "        'https://www.thegef.org/projects-operations/database?f%5B0%5D=focal_areas%3A2207&search=&page=56',\n",
        "        'https://www.thegef.org/projects-operations/database?f%5B0%5D=focal_areas%3A2207&search=&page=57',\n",
        "        'https://www.thegef.org/projects-operations/database?f%5B0%5D=focal_areas%3A2207&search=&page=58',\n",
        "        'https://www.thegef.org/projects-operations/database?f%5B0%5D=focal_areas%3A2207&search=&page=59',\n",
        "        'https://www.thegef.org/projects-operations/database?f%5B0%5D=focal_areas%3A2207&search=&page=60',\n",
        "        'https://www.thegef.org/projects-operations/database?f%5B0%5D=focal_areas%3A2207&search=&page=61',\n",
        "        'https://www.thegef.org/projects-operations/database?f%5B0%5D=focal_areas%3A2207&search=&page=62',\n",
        "        'https://www.thegef.org/projects-operations/database?f%5B0%5D=focal_areas%3A2207&search=&page=63',\n",
        "        'https://www.thegef.org/projects-operations/database?f%5B0%5D=focal_areas%3A2207&search=&page=64',\n",
        "        'https://www.thegef.org/projects-operations/database?f%5B0%5D=focal_areas%3A2207&search=&page=65',\n",
        "        'https://www.thegef.org/projects-operations/database?f%5B0%5D=focal_areas%3A2207&search=&page=66',\n",
        "        'https://www.thegef.org/projects-operations/database?f%5B0%5D=focal_areas%3A2207&search=&page=67',\n",
        "        'https://www.thegef.org/projects-operations/database?f%5B0%5D=focal_areas%3A2207&search=&page=68',\n",
        "        'https://www.thegef.org/projects-operations/database?f%5B0%5D=focal_areas%3A2207&search=&page=69',\n",
        "        'https://www.thegef.org/projects-operations/database?f%5B0%5D=focal_areas%3A2207&search=&page=70',\n",
        "        'https://www.thegef.org/projects-operations/database?f%5B0%5D=focal_areas%3A2207&search=&page=71',\n",
        "        'https://www.thegef.org/projects-operations/database?f%5B0%5D=focal_areas%3A2207&search=&page=72',\n",
        "        'https://www.thegef.org/projects-operations/database?f%5B0%5D=focal_areas%3A2207&search=&page=73',\n",
        "        'https://www.thegef.org/projects-operations/database?f%5B0%5D=focal_areas%3A2207&search=&page=74',\n",
        "        'https://www.thegef.org/projects-operations/database?f%5B0%5D=focal_areas%3A2207&search=&page=75',\n",
        "        'https://www.thegef.org/projects-operations/database?f%5B0%5D=focal_areas%3A2207&search=&page=76'\n",
        "        ]\n",
        "\n",
        "# Send an HTTP request to the URL\n",
        "project_links = []\n",
        "for url in urls:\n",
        "  response = requests.get(url)\n",
        "\n",
        "  soup = BeautifulSoup(response.text, 'html.parser')\n",
        "\n",
        "  # Find the table that contains the links (you may need to inspect the HTML)\n",
        "  table = soup.find('table')\n",
        "\n",
        "  # Loop through rows in the table\n",
        "  for row in table.find_all('tr'):\n",
        "    # Check if there are any <td> elements in this row\n",
        "    td_elements = row.find_all('td')\n",
        "    if td_elements:\n",
        "      # Assuming the links are in the first column (index 0)\n",
        "      link = td_elements[0].find('a')\n",
        "      if link:\n",
        "        link_text = link.get('href')\n",
        "        full_link = \"https://www.thegef.org\" + link_text\n",
        "        project_links.append(full_link)\n",
        "\n",
        "# If your computer takes too long to compute you have faster access to the data\n",
        "link_dataframe = pd.DataFrame(project_links)\n",
        "link_dataframe.to_csv('project_links.csv', index= False, header= None)\n",
        "\n",
        "project_links"
      ],
      "metadata": {
        "id": "R0M7vk_0ZsUg"
      },
      "execution_count": null,
      "outputs": []
    },
    {
      "cell_type": "markdown",
      "source": [
        "#Extract project general info"
      ],
      "metadata": {
        "id": "OpXW0R3OCdTq"
      }
    },
    {
      "cell_type": "markdown",
      "source": [
        "Including catching any exceptions"
      ],
      "metadata": {
        "id": "-3irsm_nqYtn"
      }
    },
    {
      "cell_type": "code",
      "source": [
        "from requests.sessions import ChunkedEncodingError\n",
        "project_title = []\n",
        "funding_institution = []\n",
        "implementing_institution = []\n",
        "country = []\n",
        "region = []\n",
        "status = []\n",
        "total_project_amount = []\n",
        "link_to_project_documentation = []\n",
        "\n",
        "retry_count = 3\n",
        "for attempt in range(retry_count):\n",
        "  try:\n",
        "    for project_link in project_links:\n",
        "      response = requests.get(project_link)\n",
        "\n",
        "      soup = BeautifulSoup(response.text, 'html.parser')\n",
        "\n",
        "      # Project title\n",
        "      try:\n",
        "        title_element = soup.find('span', class_='field--name-title')\n",
        "        title_text = title_element.get_text(strip=True)\n",
        "      except:\n",
        "        title_text = None\n",
        "      project_title.append(title_text)\n",
        "\n",
        "      # Funding institution\n",
        "      try:\n",
        "        funding_institution_element = soup.find('div', class_='field--name-field-trust-fund-name')\n",
        "        funding_institution_item = funding_institution_element.find_all('div', class_='field__item')\n",
        "        funding_institution_list = [item.get_text(strip=True) for item in funding_institution_item]\n",
        "      except:\n",
        "        funding_institution_list = None\n",
        "      funding_institution.append(funding_institution_list)\n",
        "\n",
        "      # Implementing institution\n",
        "      try:\n",
        "        implementing_institution_element = soup.find('div', class_='field--name-field-implementing-agencies')\n",
        "        implementing_institution_item = implementing_institution_element.find_all('div', class_='field__item')\n",
        "        implementing_institution_list = [item.get_text(strip=True) for item in implementing_institution_item]\n",
        "      except:\n",
        "        emplementing_institution_list = None\n",
        "      implementing_institution.append(implementing_institution_list)\n",
        "\n",
        "      # Country\n",
        "      try:\n",
        "        country_element = soup.find('div', class_='field--name-field-country')\n",
        "        country_item = country_element.find_all('div', class_='field__item')\n",
        "        country_list = [item.get_text(strip=True) for item in country_item]\n",
        "      except:\n",
        "        country_list = None\n",
        "      country.append(country_list)\n",
        "\n",
        "      # Region\n",
        "      try:\n",
        "        region_element = soup.find('div', class_='field--name-field-region')\n",
        "        region_item = region_element.find_all('div', class_='field__item')\n",
        "        region_list = [item.get_text(strip=True) for item in region_item]\n",
        "      except:\n",
        "        region_list = None\n",
        "      region.append(region_list)\n",
        "\n",
        "      # Status\n",
        "      try:\n",
        "        status_element = soup.find('div', class_='field--name-field-status')\n",
        "        status_text = status_element.find('div', class_='field__item').get_text(strip = True)\n",
        "      except:\n",
        "        status_text = None\n",
        "      status.append(status_text)\n",
        "\n",
        "      # Total amount\n",
        "      try:\n",
        "        gef_project_grant_element = soup.find('div', class_='views-field-field-gef-project-grant')\n",
        "        cofinancing_element = soup.find('div', class_ ='views-field-field-co-financing-total')\n",
        "\n",
        "        gef_project_grant_amount = gef_project_grant_element.find('div', class_='field-content').get_text(strip=True)\n",
        "        cofinancing_amount = cofinancing_element.find('div', class_ ='field-content').get_text(strip=True)\n",
        "        total_amount = int(gef_project_grant_amount) + int(cofinancing_amount)\n",
        "      except:\n",
        "        total_amount = None\n",
        "\n",
        "      total_project_amount.append(total_amount)\n",
        "\n",
        "      # Link to project documentation\n",
        "      try:\n",
        "        project_documents_element = soup.find('div', class_='field--name-field-document-url')\n",
        "        project_documents_items = project_documents_element.find_all('div', class_='field__item')\n",
        "        document_links = [item.find('a')['href'] for item in project_documents_items]\n",
        "      except:\n",
        "        document_links = None\n",
        "      link_to_project_documentation.append(document_links)\n",
        "\n",
        "  except ChunkedEncodingError as e:\n",
        "    print(f\"ChunkedEncodingError: {e}\")\n",
        "    if attempt < retry_count - 1:\n",
        "      print(\"Retrying...\")\n",
        "    else:\n",
        "      print(\"Max retry attempts reached.\")\n",
        "  except requests.RequestException as e:\n",
        "    print(f\"RequestException: {e}\")\n",
        "    break\n",
        "\n"
      ],
      "metadata": {
        "colab": {
          "base_uri": "https://localhost:8080/"
        },
        "id": "uqy7_0VH1Fn5",
        "outputId": "29e8457a-9d6d-43aa-c727-62b7cb4eeaad"
      },
      "execution_count": null,
      "outputs": [
        {
          "output_type": "stream",
          "name": "stdout",
          "text": [
            "ChunkedEncodingError: ('Connection broken: IncompleteRead(8458 bytes read, 1782 more expected)', IncompleteRead(8458 bytes read, 1782 more expected))\n",
            "Retrying...\n",
            "ChunkedEncodingError: ('Connection broken: IncompleteRead(784 bytes read, 4652 more expected)', IncompleteRead(784 bytes read, 4652 more expected))\n",
            "Retrying...\n"
          ]
        }
      ]
    },
    {
      "cell_type": "markdown",
      "source": [
        "Hey"
      ],
      "metadata": {
        "id": "0iq9uLUmrCZN"
      }
    },
    {
      "cell_type": "markdown",
      "source": [
        "#Create dataframe and export to csv"
      ],
      "metadata": {
        "id": "ZgBoFzNWZhuj"
      }
    },
    {
      "cell_type": "markdown",
      "source": [
        "For the purposes of downloading"
      ],
      "metadata": {
        "id": "NUn3q9IeqRfj"
      }
    },
    {
      "cell_type": "code",
      "source": [
        "ss = pd.DataFrame(\n",
        "    {'project_title': project_title, 'funding_institution': funding_institution, 'implementing_institution': implementing_institution,\n",
        "     'country': country, 'region': region,'status': status, 'total_project_amount': total_project_amount,\n",
        "     'link_to_project_documentation': link_to_project_documentation})\n",
        "ss.head()\n",
        "ss.to_csv('thegef_data.csv')"
      ],
      "metadata": {
        "id": "2ciwSg5bS1UD"
      },
      "execution_count": null,
      "outputs": []
    }
  ]
}